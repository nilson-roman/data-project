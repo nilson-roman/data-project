{
 "cells": [
  {
   "cell_type": "markdown",
   "metadata": {},
   "source": [
    "# PROJETO OOP\n",
    "## Nilson e João\n",
    "1. uma classe mimetizada do python (tupla)\n",
    "2. um objeto do mundo real (pet)"
   ]
  },
  {
   "cell_type": "code",
   "execution_count": 1,
   "metadata": {},
   "outputs": [],
   "source": [
    "class Tupla:\n",
    "    '''Essa classe mimetiza as funções das tuples'''\n",
    "    \n",
    "    def __init__(self,tupla=()):\n",
    "        self.tupla = tupla\n",
    "    \n",
    "    # Representação do tipo\n",
    "    def __repr__(self):\n",
    "        return f\"{type(self.tupla)}\"\n",
    "   \n",
    "    # Método tamanho da tupla\n",
    "    def tamanho(self):\n",
    "        cont = 0        \n",
    "        for i in self.tupla:\n",
    "            cont += 1\n",
    "        return cont\n",
    "    \n",
    "    # Método concatenar tuplas \n",
    "    def concat(self,tupla=()):        \n",
    "        lst = []\n",
    "        for i in self.tupla:\n",
    "            lst.append(i)\n",
    "        for j in tupla:\n",
    "            lst.append(j)\n",
    "        self.tupla = lst\n",
    "        return tuple(lst)\n",
    "        \n",
    "    # Método repetição\n",
    "#     def repet(self, num=0):\n",
    "#           num -= 1\n",
    "#         for i in range(len(num)):\n",
    "#             self.concat(self.tupla)\n",
    "#         return tuple(self.tupla)"
   ]
  },
  {
   "cell_type": "code",
   "execution_count": 2,
   "metadata": {},
   "outputs": [],
   "source": [
    "b = Tupla()"
   ]
  },
  {
   "cell_type": "code",
   "execution_count": 3,
   "metadata": {},
   "outputs": [
    {
     "data": {
      "text/plain": [
       "0"
      ]
     },
     "execution_count": 3,
     "metadata": {},
     "output_type": "execute_result"
    }
   ],
   "source": [
    "b.tamanho()"
   ]
  },
  {
   "cell_type": "code",
   "execution_count": 4,
   "metadata": {},
   "outputs": [
    {
     "data": {
      "text/plain": [
       "('a',)"
      ]
     },
     "execution_count": 4,
     "metadata": {},
     "output_type": "execute_result"
    }
   ],
   "source": [
    "b.concat(('a'))"
   ]
  },
  {
   "cell_type": "code",
   "execution_count": 5,
   "metadata": {},
   "outputs": [
    {
     "data": {
      "text/plain": [
       "('a', 1, 2, 3)"
      ]
     },
     "execution_count": 5,
     "metadata": {},
     "output_type": "execute_result"
    }
   ],
   "source": [
    "b.concat((1,2,3))"
   ]
  },
  {
   "cell_type": "code",
   "execution_count": 6,
   "metadata": {},
   "outputs": [],
   "source": [
    "# b.repet(4)"
   ]
  },
  {
   "cell_type": "code",
   "execution_count": 7,
   "metadata": {},
   "outputs": [],
   "source": [
    "class Pet:\n",
    "    # Defini os atributos da classe pet \n",
    "    def __init__(self,especie,nome,sexo,idade=0):\n",
    "        self.especie = especie.lower()\n",
    "        self.nome = nome\n",
    "        self.sexo = sexo.lower()\n",
    "        self.idade = idade\n",
    "    \n",
    "    # Métodos da classe:\n",
    "    \n",
    "    def som(self): \n",
    "        self.especie = especie.lower()\n",
    "        if self.especie == \"cachorro\":\n",
    "            print(\"Au, au!!\")\n",
    "        elif self.especie == \"gato\":\n",
    "            print(\"Meoww!!\")\n",
    "        elif self.espcie == \"papagaio\":\n",
    "            print(\"Loro quer biscoito!!!!\")\n",
    "        else:\n",
    "            pass\n",
    "    \n",
    "    def brincar(self):        \n",
    "        string = input(\"Como quer brincar com seu pet:\\n\"\n",
    "                   \"+ Jogar graveto -> Digite 1\\n\"\n",
    "                   \"+ Jogar bola    -> Digite 2\\n\"\n",
    "                   \"+ Falar    -> Digite 3\\n\")\n",
    "        \n",
    "        if string == \"1\":\n",
    "            if self.especie == \"cachorro\":\n",
    "                print(\"Pega e trás o graveto!\")\n",
    "            else:\n",
    "                print(\"Fica só olhando, wtf?!\")\n",
    "            \n",
    "        elif string == \"2\": \n",
    "            if self.especie == \"cachorro\" or self.especie == \"gato\":\n",
    "                print(\"Busca! a bolinha!\")\n",
    "            else:\n",
    "                print(\"Que porra é essa?!?!?!\")\n",
    "            \n",
    "        elif string == \"3\":\n",
    "            if self.especie == \"cachorro\":\n",
    "                print(\"Cachorro abana o rabo.\")\n",
    "            \n",
    "            elif self.especie == \"gato\":\n",
    "                print(\"Te ignora.\")\n",
    "            \n",
    "            elif self.especie == \"papagaio\":\n",
    "                print()\n",
    "                fala = input(\"\\nFale com o Loro:\" )\n",
    "                print(f'Loro diz: {fala}')\n",
    "        else:\n",
    "            print(\"Opcao invalida escolha novamente\")\n",
    "            \n",
    "                \n",
    "            \n",
    "    def dormir(self):\n",
    "        if self.especie == \"gato\":\n",
    "            print(f'Seu gato, {self.nome}, dormiu')\n",
    "        elif self.especie == \"papagaio\":\n",
    "            print(f'{self.nome}, o loro demoníaco, gritou a noite toda e não dormiu')\n",
    "        elif self.especie == 'cachorro':\n",
    "            print(f'{self.nome} foi dormir no quintal')\n",
    "            \n",
    "            \n",
    "    def comer(self,comida):\n",
    "        self.comida = comida\n",
    "        '''você só pode dar biscoito, carne ou atum pro seu pet'''\n",
    "        if comida == 'atum':\n",
    "            if self.especie == 'gato' or self.especie == 'cachorro':\n",
    "                print(f'{self.nome}, seu {self.especie}, mandou bala no atum')\n",
    "            else:\n",
    "                print(f'O atum apodreceu no prato')\n",
    "        \n",
    "        elif comida == 'biscoito':\n",
    "            if self.especie == 'papagaio':\n",
    "                print(f'O {self.especie} se deliciou')\n",
    "            else:\n",
    "                print(f'O biscoito murchou')\n",
    "            \n",
    "        elif comida == 'carne':\n",
    "            if self.especie == 'cachorro':\n",
    "                print(f'Você só achava que {self.nome} era cão de guarda... ele se distrai muito fácil')\n",
    "            else:\n",
    "                print(f'Seu pet ignorou a {comida}')"
   ]
  },
  {
   "cell_type": "code",
   "execution_count": 8,
   "metadata": {},
   "outputs": [],
   "source": [
    "animal = Pet(\"Papagaio\",\"Bob\",\"Masculino\",2)"
   ]
  },
  {
   "cell_type": "code",
   "execution_count": 9,
   "metadata": {},
   "outputs": [
    {
     "data": {
      "text/plain": [
       "'Bob'"
      ]
     },
     "execution_count": 9,
     "metadata": {},
     "output_type": "execute_result"
    }
   ],
   "source": [
    "animal.nome"
   ]
  },
  {
   "cell_type": "code",
   "execution_count": 10,
   "metadata": {},
   "outputs": [
    {
     "data": {
      "text/plain": [
       "2"
      ]
     },
     "execution_count": 10,
     "metadata": {},
     "output_type": "execute_result"
    }
   ],
   "source": [
    "animal.idade"
   ]
  },
  {
   "cell_type": "code",
   "execution_count": 11,
   "metadata": {},
   "outputs": [
    {
     "name": "stdout",
     "output_type": "stream",
     "text": [
      "O atum apodreceu no prato\n"
     ]
    }
   ],
   "source": [
    "animal.comer('atum')"
   ]
  },
  {
   "cell_type": "code",
   "execution_count": 12,
   "metadata": {},
   "outputs": [
    {
     "name": "stdout",
     "output_type": "stream",
     "text": [
      "Como quer brincar com seu pet:\n",
      "+ Jogar graveto -> Digite 1\n",
      "+ Jogar bola    -> Digite 2\n",
      "+ Falar    -> Digite 3\n",
      "3\n",
      "\n",
      "\n",
      "Fale com o Loro:Puto!!!\n",
      "Loro diz: Puto!!!\n"
     ]
    }
   ],
   "source": [
    "animal.brincar()"
   ]
  },
  {
   "cell_type": "code",
   "execution_count": 13,
   "metadata": {},
   "outputs": [
    {
     "name": "stdout",
     "output_type": "stream",
     "text": [
      "Bob, o loro demoníaco, gritou a noite toda e não dormiu\n"
     ]
    }
   ],
   "source": [
    "animal.dormir()"
   ]
  }
 ],
 "metadata": {
  "kernelspec": {
   "display_name": "Python 3",
   "language": "python",
   "name": "python3"
  },
  "language_info": {
   "codemirror_mode": {
    "name": "ipython",
    "version": 3
   },
   "file_extension": ".py",
   "mimetype": "text/x-python",
   "name": "python",
   "nbconvert_exporter": "python",
   "pygments_lexer": "ipython3",
   "version": "3.7.4"
  },
  "toc": {
   "base_numbering": 1,
   "nav_menu": {},
   "number_sections": true,
   "sideBar": true,
   "skip_h1_title": false,
   "title_cell": "Table of Contents",
   "title_sidebar": "Contents",
   "toc_cell": false,
   "toc_position": {},
   "toc_section_display": true,
   "toc_window_display": false
  }
 },
 "nbformat": 4,
 "nbformat_minor": 2
}
